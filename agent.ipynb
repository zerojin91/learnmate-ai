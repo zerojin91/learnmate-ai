{
 "cells": [
  {
   "cell_type": "markdown",
   "id": "fis3mu35huw",
   "metadata": {},
   "source": [
    "## 📋 Assessment 시스템 테스트 결과 분석\n",
    "\n",
    "각 셀을 실행하면서 다음 사항들을 확인해보세요:\n",
    "\n",
    "### 🔍 확인할 포인트:\n",
    "\n",
    "1. **MCP 연결 상태**: 도구가 정상적으로 로드되는지\n",
    "2. **각 Assessor 작동**: 5단계 평가가 순서대로 진행되는지  \n",
    "3. **LLM 응답 품질**: 자연스러운 대화 흐름인지\n",
    "4. **오류 처리**: 예외 상황 발생시 적절한 처리인지\n",
    "\n",
    "### 📝 테스트 방법:\n",
    "1. 첫 번째 셀을 실행하여 MCP 서버 연결 확인\n",
    "2. 각 평가 단계 셀을 순서대로 실행\n",
    "3. 에이전트의 응답과 다음 질문을 관찰\n",
    "4. 필요시 추가 대화 진행"
   ]
  },
  {
   "cell_type": "code",
   "execution_count": 1,
   "id": "dvi09jjag4h",
   "metadata": {},
   "outputs": [
    {
     "name": "stdout",
     "output_type": "stream",
     "text": [
      "\\n📈 수준 측정 테스트\n"
     ]
    },
    {
     "ename": "NameError",
     "evalue": "name 'astream_graph' is not defined",
     "output_type": "error",
     "traceback": [
      "\u001b[0;31m---------------------------------------------------------------------------\u001b[0m",
      "\u001b[0;31mNameError\u001b[0m                                 Traceback (most recent call last)",
      "Cell \u001b[0;32mIn[1], line 3\u001b[0m\n\u001b[1;32m      1\u001b[0m \u001b[38;5;66;03m# 7. 수준 측정 테스트 (LevelAssessor)\u001b[39;00m\n\u001b[1;32m      2\u001b[0m \u001b[38;5;28mprint\u001b[39m(\u001b[38;5;124m\"\u001b[39m\u001b[38;5;130;01m\\\\\u001b[39;00m\u001b[38;5;124mn📈 수준 측정 테스트\u001b[39m\u001b[38;5;124m\"\u001b[39m)\n\u001b[0;32m----> 3\u001b[0m \u001b[38;5;28;01mawait\u001b[39;00m astream_graph(agent, {\u001b[38;5;124m\"\u001b[39m\u001b[38;5;124mmessages\u001b[39m\u001b[38;5;124m\"\u001b[39m: \u001b[38;5;124m\"\u001b[39m\u001b[38;5;124m파이썬은 완전 처음이에요, 프로그래밍 자체가 처음이에요\u001b[39m\u001b[38;5;124m\"\u001b[39m})\n",
      "\u001b[0;31mNameError\u001b[0m: name 'astream_graph' is not defined"
     ]
    }
   ],
   "source": [
    "# 7. 수준 측정 테스트 (LevelAssessor)\n",
    "print(\"\\\\n📈 수준 측정 테스트\")\n",
    "await astream_graph(agent, {\"messages\": \"파이썬은 완전 처음이에요, 프로그래밍 자체가 처음이에요\"})"
   ]
  },
  {
   "cell_type": "code",
   "execution_count": null,
   "id": "auo8203f30c",
   "metadata": {},
   "outputs": [],
   "source": [
    "# 6. 예산 평가 테스트 (BudgetAssessor)\n",
    "print(\"\\\\n💰 예산 평가 테스트\")\n",
    "await astream_graph(agent, {\"messages\": \"한 달에 5만원 정도까지는 쓸 수 있어요\"})"
   ]
  },
  {
   "cell_type": "code",
   "execution_count": null,
   "id": "vkj9i5227dq",
   "metadata": {},
   "outputs": [],
   "source": [
    "# 📝 실제 대화형 테스트 가이드\n",
    "\n",
    "print(\\\"\\\"\\\"\n",
    "\\\\n📋 **실제 테스트 방법**:\n",
    "\n",
    "1️⃣ 첫 번째 셀을 실행해서 session_id를 확인\n",
    "2️⃣ 얻은 session_id를 복사해서 아래 셀들의 'session_id' 값을 교체\n",
    "3️⃣ 각 셀을 순서대로 실행하면서 대화형 평가 진행 과정 관찰\n",
    "4️⃣ assess_user 도구로 사용자 입력을 시뮬레이션\n",
    "5️⃣ confirm_and_proceed 도구로 다음 단계로 진행\n",
    "\n",
    "이렇게 하면 topic → goal → time → budget → level 순서로 \n",
    "상태 기반 대화형 평가 시스템이 작동하는 것을 확인할 수 있습니다! 🚀\n",
    "\\\"\\\"\\\")"
   ]
  },
  {
   "cell_type": "code",
   "execution_count": null,
   "id": "l22m5yab3kj",
   "metadata": {},
   "outputs": [],
   "source": [
    "# 4. 목표 평가 테스트\n",
    "print(\"\\\\n4️⃣ 목표 평가\")\n",
    "\n",
    "session_id = \"274781a6-4ff3-45ba-8e00-0d4cab7b4a83\"  # 동일한 session_id 사용\n",
    "\n",
    "await astream_graph(agent, {\"messages\": f\"assess_user 도구를 사용해서 session_id는 '{session_id}', user_input은 '취업을 위해서 공부하려고 해요'로 평가를 진행해줘\"})"
   ]
  },
  {
   "cell_type": "code",
   "execution_count": null,
   "id": "2ysj8l5ujdr",
   "metadata": {},
   "outputs": [],
   "source": [
    "# 3. 다음 단계로 진행 테스트\n",
    "print(\"\\\\n3️⃣ 주제 확인 후 다음 단계로 진행\")\n",
    "\n",
    "session_id = \"274781a6-4ff3-45ba-8e00-0d4cab7b4a83\"  # 동일한 session_id 사용\n",
    "\n",
    "await astream_graph(agent, {\"messages\": f\"confirm_and_proceed 도구를 사용해서 session_id는 '{session_id}', confirmed는 true로 설정해서 다음 단계로 진행해줘\"})"
   ]
  },
  {
   "cell_type": "code",
   "execution_count": 8,
   "id": "eruk0nlf2c",
   "metadata": {},
   "outputs": [
    {
     "name": "stdout",
     "output_type": "stream",
     "text": [
      "\\n2️⃣ 주제 평가 - 사용자 입력 시뮬레이션\n",
      "\n",
      "==================================================\n",
      "🔄 Node: \u001b[1;36magent\u001b[0m 🔄\n",
      "- - - - - - - - - - - - - - - - - - - - - - - - - \n",
      "\n",
      "==================================================\n",
      "🔄 Node: \u001b[1;36mtools\u001b[0m 🔄\n",
      "- - - - - - - - - - - - - - - - - - - - - - - - - \n",
      "Error: ClosedResourceError()\n",
      " Please fix your mistakes.\n",
      "==================================================\n",
      "🔄 Node: \u001b[1;36magent\u001b[0m 🔄\n",
      "- - - - - - - - - - - - - - - - - - - - - - - - - \n",
      "죄송합니다만, 도구에 문제가 있는 것 같습니다. assess_user 도구를 사용할 수 없네요. 사용자님의 '파이썬 프로그래밍을 배우고 싶다'는 요청은 이해했습니다. 혹시 다른 방식으로 도움이 필요하신가요?"
     ]
    },
    {
     "data": {
      "text/plain": [
       "{'node': 'agent',\n",
       " 'content': AIMessageChunk(content='', additional_kwargs={}, response_metadata={'finish_reason': 'stop', 'model_name': 'midm-2.0:base', 'system_fingerprint': 'fp_ollama'}, id='run--0aa64ff2-5cde-45f6-80d7-c7d544f2209d'),\n",
       " 'metadata': {'langgraph_step': 3,\n",
       "  'langgraph_node': 'agent',\n",
       "  'langgraph_triggers': ('branch:to:agent',),\n",
       "  'langgraph_path': ('__pregel_pull', 'agent'),\n",
       "  'langgraph_checkpoint_ns': 'agent:ea2cc5fb-8b6e-020e-8f3b-b7db6e61f603',\n",
       "  'checkpoint_ns': 'agent:ea2cc5fb-8b6e-020e-8f3b-b7db6e61f603',\n",
       "  'ls_provider': 'openai',\n",
       "  'ls_model_name': 'midm-2.0:base',\n",
       "  'ls_model_type': 'chat',\n",
       "  'ls_temperature': 0.0,\n",
       "  'ls_max_tokens': 8192}}"
      ]
     },
     "execution_count": 8,
     "metadata": {},
     "output_type": "execute_result"
    }
   ],
   "source": [
    "# 2. 주제 평가 테스트 \n",
    "print(\"\\\\n2️⃣ 주제 평가 - 사용자 입력 시뮬레이션\")\n",
    "\n",
    "# 실제로 생성된 session_id 사용使用\n",
    "session_id = \"274781a6-4ff3-45ba-8e00-0d4cab7b4a83\"  # 위에서 확인한 session_id\n",
    "\n",
    "await astream_graph(agent, {\"messages\": f\"assess_user 도구를 사용해서 session_id는 '{session_id}', user_input은 '파이썬 프로그래밍을 배우고 싶어요'로 평가를 진행해줘\"})"
   ]
  },
  {
   "cell_type": "code",
   "execution_count": 10,
   "id": "4ccd4bb5-b121-4873-925d-2ce20942bb4f",
   "metadata": {
    "scrolled": true
   },
   "outputs": [
    {
     "name": "stdout",
     "output_type": "stream",
     "text": [
      "Loaded MCP tools count: 4\n",
      "Tools: ['start_assessment', 'get_system_info', 'assess_user', 'confirm_and_proceed']\n",
      "\\n=== User Assessment 시스템 정보 ===\n",
      "\n",
      "==================================================\n",
      "🔄 Node: \u001b[1;36magent\u001b[0m 🔄\n",
      "- - - - - - - - - - - - - - - - - - - - - - - - - \n",
      "\n",
      "==================================================\n",
      "🔄 Node: \u001b[1;36mtools\u001b[0m 🔄\n",
      "- - - - - - - - - - - - - - - - - - - - - - - - - \n",
      "{\n",
      "  \"server_name\": \"User Assessment MCP Server\",\n",
      "  \"version\": \"1.0.0\",\n",
      "  \"llm_model\": \"midm-2.0:base\",\n",
      "  \"kmooc_courses_count\": 1500,\n",
      "  \"active_sessions_count\": 0,\n",
      "  \"assessment_stages\": [\n",
      "    \"topic\",\n",
      "    \"goal\",\n",
      "    \"time\",\n",
      "    \"budget\",\n",
      "    \"level\"\n",
      "  ],\n",
      "  \"available_tools\": [\n",
      "    \"start_assessment\",\n",
      "    \"assess_user\",\n",
      "    \"get_system_info\"\n",
      "  ],\n",
      "  \"status\": \"running\",\n",
      "  \"timestamp\": \"2025-09-05T09:03:00.055457\"\n",
      "}\n",
      "==================================================\n",
      "🔄 Node: \u001b[1;36magent\u001b[0m 🔄\n",
      "- - - - - - - - - - - - - - - - - - - - - - - - - \n",
      "시스템 정보를 확인했습니다. 현재 서버는 User Assessment MCP Server 버전 1.0.0을 사용 중이며, midm-2.0 모델 기반으로 작동하고 있습니다. 총 1500개의 K-MOOC 강좌가 등록되어 있고, 현재 활성 세션은 없습니다. 평가 단계로는 주제(topic), 목표(goal), 시간(time), 예산(budget), 수준(level)이 있으며, 지금까지 요청하신 도구 외에도 'start_assessment'와 'assess_user' 도구를 사용할 수 있습니다.\\n1️⃣ 평가 시작\n",
      "\n",
      "==================================================\n",
      "🔄 Node: \u001b[1;36magent\u001b[0m 🔄\n",
      "- - - - - - - - - - - - - - - - - - - - - - - - - \n",
      "\n",
      "==================================================\n",
      "🔄 Node: \u001b[1;36mtools\u001b[0m 🔄\n",
      "- - - - - - - - - - - - - - - - - - - - - - - - - \n",
      "{\n",
      "  \"session_id\": \"9346e258-11b2-4fd4-94e1-cf5510d67b07\",\n",
      "  \"stage\": \"topic\",\n",
      "  \"message\": \"안녕하세요! 🎯 맞춤형 학습 추천을 위해 간단한 평가를 진행하겠습니다.\\n\\n📋 **진행 순서**:\\n1️⃣ **주제 파악**: 먼저 어떤 분야를 공부하고 싶으신지 알아보겠습니다\\n2️⃣ **목표 파악**: 학습 목적과 목표를 확인하겠습니다\\n3️⃣ **시간 파악**: 학습에 투자할 수 있는 시간을 파악하겠습니다\\n4️⃣ **예산 파악**: 학습 예산 범위를 알아보겠습니다\\n5️⃣ **수준 측정**: 현재 수준을 측정하겠습니다\\n6️⃣ **강의 추천**: 마지막으로 맞춤형 KMOOC 강의를 추천해드리겠습니다\\n\\n편안하게 대화하듯 답변해주시면 됩니다! 😊\\n\\n그럼 시작해볼까요? 어떤 주제를 공부하고 싶으신가요?\",\n",
      "  \"next_action\": \"assess_topic\",\n",
      "  \"progress\": {\n",
      "    \"progress\": 0.0,\n",
      "    \"current_stage\": \"topic\",\n",
      "    \"completed_stages\": [],\n",
      "    \"total_stages\": 5\n",
      "  }\n",
      "}\n",
      "==================================================\n",
      "🔄 Node: \u001b[1;36magent\u001b[0m 🔄\n",
      "- - - - - - - - - - - - - - - - - - - - - - - - - \n",
      "안녕하세요! 맞춤형 학습 추천을 위한 평가를 시작하겠습니다.\n",
      "\n",
      "먼저 어떤 분야를 공부하고 싶으신지 알려주세요. 관심 있는 주제나 배우고 싶은 과목이 있으신가요?\\n2️⃣ 주제 평가\n",
      "\n",
      "==================================================\n",
      "🔄 Node: \u001b[1;36magent\u001b[0m 🔄\n",
      "- - - - - - - - - - - - - - - - - - - - - - - - - \n",
      "\n",
      "==================================================\n",
      "🔄 Node: \u001b[1;36mtools\u001b[0m 🔄\n",
      "- - - - - - - - - - - - - - - - - - - - - - - - - \n",
      "{\n",
      "  \"session_id\": \"6bfd5097-2108-4765-afec-8f3ae7f0771c\",\n",
      "  \"message\": \"새 세션이 시작되었습니다. 먼저 start_assessment 도구를 사용해서 평가를 시작해주세요.\",\n",
      "  \"next_action\": \"start_assessment\"\n",
      "}\n",
      "==================================================\n",
      "🔄 Node: \u001b[1;36magent\u001b[0m 🔄\n",
      "- - - - - - - - - - - - - - - - - - - - - - - - - \n",
      "안녕하세요! 저는 Mi:dm입니다. 사용자님의 상황을 더 잘 이해하고 도와드리기 위해 간단한 평가를 진행하려고 합니다. 지금 바로 평가를 시작할까요?\\n3️⃣ 목표 평가\n",
      "\n",
      "==================================================\n",
      "🔄 Node: \u001b[1;36magent\u001b[0m 🔄\n",
      "- - - - - - - - - - - - - - - - - - - - - - - - - \n",
      "\n",
      "==================================================\n",
      "🔄 Node: \u001b[1;36mtools\u001b[0m 🔄\n",
      "- - - - - - - - - - - - - - - - - - - - - - - - - \n",
      "{\n",
      "  \"session_id\": \"0c4df47f-fa56-4fd5-bcfa-9c3f8ed0492d\",\n",
      "  \"message\": \"새 세션이 시작되었습니다. 먼저 start_assessment 도구를 사용해서 평가를 시작해주세요.\",\n",
      "  \"next_action\": \"start_assessment\"\n",
      "}\n",
      "==================================================\n",
      "🔄 Node: \u001b[1;36magent\u001b[0m 🔄\n",
      "- - - - - - - - - - - - - - - - - - - - - - - - - \n",
      "안녕하세요! 저는 Mi:dm입니다. 사용자님의 상황을 더 잘 이해하고 도와드리기 위해 평가를 진행하려고 합니다. 어떤 도움이 필요하신지 말씀해 주시겠어요?"
     ]
    }
   ],
   "source": [
    "from mcp import ClientSession, StdioServerParameters\n",
    "from mcp.client.stdio import stdio_client\n",
    "from langchain_mcp_adapters.tools import load_mcp_tools\n",
    "from langgraph.prebuilt import create_react_agent\n",
    "from langchain_openai import ChatOpenAI\n",
    "from utils import astream_graph\n",
    "\n",
    "\n",
    "llm = ChatOpenAI(\n",
    "    base_url=\"http://localhost:11434/v1\",\n",
    "    api_key=\"ollama\",\n",
    "    model=\"midm-2.0:base\",  # tool calling 지원 모델 사용\n",
    "    temperature=0.0,\n",
    "    max_tokens=8192,\n",
    ")\n",
    "\n",
    "\n",
    "# StdIO 서버 파라미터 설정 - user_assessment.py 사용\n",
    "server_params = StdioServerParameters(\n",
    "    command=\"python\",\n",
    "    args=[\"servers/user_assessment.py\"],  # 상태 관리가 있는 완전한 서버 사용\n",
    ")\n",
    "\n",
    "# StdIO 클라이언트를 사용하여 서버와 통신\n",
    "async with stdio_client(server_params) as (read, write):\n",
    "    # 클라이언트 세션 생성\n",
    "    async with ClientSession(read, write) as session:\n",
    "        # 연결 초기화\n",
    "        await session.initialize()\n",
    "\n",
    "        # MCP 도구 로드\n",
    "        tools = await load_mcp_tools(session)\n",
    "        print(f\"Loaded MCP tools count: {len(tools)}\")\n",
    "        print(\"Tools:\", [tool.name for tool in tools])\n",
    "\n",
    "        # 에이전트 생성\n",
    "        agent = create_react_agent(llm, tools)\n",
    "        \n",
    "        # 시스템 정보 확인\n",
    "        print(\"\\\\n=== User Assessment 시스템 정보 ===\")\n",
    "        await astream_graph(agent, {\"messages\": \"get_system_info 도구를 사용해서 시스템 정보를 확인해줘\"})\n",
    "\n",
    "        # 1. 평가 시작\n",
    "        print(\"\\\\n1️⃣ 평가 시작\")\n",
    "        await astream_graph(agent, {\"messages\": \"start_assessment 도구를 사용해서 학습 평가를 시작해줘\"})\n",
    "\n",
    "        # 2. 주제 평가\n",
    "        print(\"\\\\n2️⃣ 주제 평가\")\n",
    "        await astream_graph(agent, {\"messages\": \"assess_user 도구를 사용해서 사용자 입력을 평가해줘\"})\n",
    "\n",
    "        # 3. 목표 평가\n",
    "        print(\"\\\\n3️⃣ 목표 평가\")\n",
    "        await astream_graph(agent, {\"messages\": \"assess_user 도구를 사용해서 사용자 입력을 평가해줘\"})"
   ]
  },
  {
   "cell_type": "code",
   "execution_count": 11,
   "id": "2d01fd67",
   "metadata": {},
   "outputs": [
    {
     "name": "stdout",
     "output_type": "stream",
     "text": [
      "\n",
      "==================================================\n",
      "🔄 Node: \u001b[1;36magent\u001b[0m 🔄\n",
      "- - - - - - - - - - - - - - - - - - - - - - - - - \n",
      "안녕하세요! 개발자가 되려는 꿈을 가지고 계시는군요. 정말 멋진 목표예요. 어떤 분야의 개발에 관심이 있으신가요? 웹, 앱, 게임 등 다양한 영역이 있는데 궁금해요."
     ]
    }
   ],
   "source": [
    "# StdIO 클라이언트를 사용하여 서버와 통신\n",
    "async with stdio_client(server_params) as (read, write):\n",
    "    # 클라이언트 세션 생성\n",
    "    async with ClientSession(read, write) as session:\n",
    "\n",
    "        await astream_graph(agent, {\"messages\": \"안녕? 나는 개발자가 되고 싶어\"})"
   ]
  },
  {
   "cell_type": "code",
   "execution_count": 13,
   "id": "3254d659",
   "metadata": {},
   "outputs": [
    {
     "name": "stdout",
     "output_type": "stream",
     "text": [
      "\n",
      "==================================================\n",
      "🔄 Node: \u001b[1;36magent\u001b[0m 🔄\n",
      "- - - - - - - - - - - - - - - - - - - - - - - - - \n",
      "안녕하세요! 컴퓨터 비전 개발자에 관심을 가져주셔서 반갑습니다. 컴퓨터 비전 분야는 정말 흥미로운 영역이에요. 어떤 부분이 가장 궁금하신가요? 현재 개발 경험이나 배경지식은 어느 정도 있으신지 알 수 있을까요?"
     ]
    }
   ],
   "source": [
    "# StdIO 클라이언트를 사용하여 서버와 통신\n",
    "async with stdio_client(server_params) as (read, write):\n",
    "    # 클라이언트 세션 생성\n",
    "    async with ClientSession(read, write) as session:\n",
    "\n",
    "        await astream_graph(agent, {\"messages\": \"컴퓨터 비전 개발자가 되고 싶어\"})"
   ]
  },
  {
   "cell_type": "code",
   "execution_count": null,
   "id": "bf216804",
   "metadata": {},
   "outputs": [],
   "source": []
  },
  {
   "cell_type": "code",
   "execution_count": null,
   "id": "7bd4953d",
   "metadata": {},
   "outputs": [],
   "source": []
  },
  {
   "cell_type": "code",
   "execution_count": null,
   "id": "ee8435ae",
   "metadata": {},
   "outputs": [],
   "source": []
  },
  {
   "cell_type": "code",
   "execution_count": null,
   "id": "5d35d0cf",
   "metadata": {},
   "outputs": [],
   "source": []
  },
  {
   "cell_type": "code",
   "execution_count": null,
   "id": "5c14a4a8",
   "metadata": {},
   "outputs": [],
   "source": []
  },
  {
   "cell_type": "code",
   "execution_count": 10,
   "id": "a8ba1577-fde7-4790-8e8b-d9138fd90fef",
   "metadata": {},
   "outputs": [
    {
     "name": "stderr",
     "output_type": "stream",
     "text": [
      "/opt/anaconda3/envs/kt_competition/lib/python3.11/site-packages/urllib3/connectionpool.py:1097: InsecureRequestWarning: Unverified HTTPS request is being made to host 'mermaid.ink'. Adding certificate verification is strongly advised. See: https://urllib3.readthedocs.io/en/latest/advanced-usage.html#tls-warnings\n",
      "  warnings.warn(\n"
     ]
    },
    {
     "data": {
      "image/png": "[encoded data removed]",
      "text/plain": [
       "<IPython.core.display.Image object>"
      ]
     },
     "metadata": {},
     "output_type": "display_data"
    }
   ],
   "source": [
    "from IPython.display import Image, display\n",
    "\n",
    "try:\n",
    "    display(Image(agent.get_graph(xray=True).draw_mermaid_png()))\n",
    "except Exception:\n",
    "    pass"
   ]
  },
  {
   "cell_type": "code",
   "execution_count": null,
   "id": "2fc74cd2-90e6-417e-a546-91ee9e79f9b5",
   "metadata": {},
   "outputs": [],
   "source": [
    "# 대화형 평가 테스트\n",
    "\n",
    "print(\"\\\\n=== 대화형 평가 시스템 테스트 ===\")\n",
    "\n",
    "# 1. 평가 시작\n",
    "print(\"\\\\n1️⃣ 평가 시작\")\n",
    "await astream_graph(agent, {\"messages\": \"start_assessment 도구를 사용해서 학습 평가를 시작해줘\"})"
   ]
  }
 ],
 "metadata": {
  "kernelspec": {
   "display_name": "Python 3 (ipykernel)",
   "language": "python",
   "name": "python3"
  },
  "language_info": {
   "codemirror_mode": {
    "name": "ipython",
    "version": 3
   },
   "file_extension": ".py",
   "mimetype": "text/x-python",
   "name": "python",
   "nbconvert_exporter": "python",
   "pygments_lexer": "ipython3",
   "version": "3.12.4"
  }
 },
 "nbformat": 4,
 "nbformat_minor": 5
}
