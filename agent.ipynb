{
 "cells": [
  {
   "cell_type": "code",
   "execution_count": null,
   "id": "4ccd4bb5-b121-4873-925d-2ce20942bb4f",
   "metadata": {
    "scrolled": true
   },
   "outputs": [
    {
     "name": "stdout",
     "output_type": "stream",
     "text": [
      "Loaded MCP tools count: 1\n",
      "Tools: ['get_weather']\n",
      "\n",
      "==================================================\n",
      "🔄 Node: \u001b[1;36magent\u001b[0m 🔄\n",
      "- - - - - - - - - - - - - - - - - - - - - - - - - \n",
      "\n",
      "==================================================\n",
      "🔄 Node: \u001b[1;36mtools\u001b[0m 🔄\n",
      "- - - - - - - - - - - - - - - - - - - - - - - - - \n",
      "It's always Sunny in 서울\n",
      "==================================================\n",
      "🔄 Node: \u001b[1;36magent\u001b[0m 🔄\n",
      "- - - - - - - - - - - - - - - - - - - - - - - - - \n",
      "오늘 서울은 항상 화창하네요! 맑은 하늘을 볼 수 있을 것 같아요. 날씨가 좋으니 기분도 상쾌하실 거예요."
     ]
    }
   ],
   "source": [
    "from mcp import ClientSession, StdioServerParameters\n",
    "from mcp.client.stdio import stdio_client\n",
    "from langchain_mcp_adapters.tools import load_mcp_tools\n",
    "from langgraph.prebuilt import create_react_agent\n",
    "from langchain_openai import ChatOpenAI\n",
    "from utils import astream_graph\n",
    "\n",
    "\n",
    "llm = ChatOpenAI(\n",
    "    base_url=\"http://localhost:11434/v1\",\n",
    "    api_key=\"ollama\",\n",
    "    model=\"midm-2.0-base-q8\",\n",
    "    temperature=0.1,  # 0.0에서 0.1로 변경\n",
    "    max_tokens=8192,\n",
    ")\n",
    "\n",
    "\n",
    "# StdIO 서버 파라미터 설정\n",
    "# - command: Python 인터프리터 경로\n",
    "# - args: 실행할 MCP 서버 스크립트\n",
    "server_params = StdioServerParameters(\n",
    "    command=\"python\",\n",
    "    args=[\"servers/user_assessment.py\"],\n",
    ")\n",
    "\n",
    "# StdIO 클라이언트를 사용하여 서버와 통신\n",
    "async with stdio_client(server_params) as (read, write):\n",
    "    # 클라이언트 세션 생성\n",
    "    async with ClientSession(read, write) as session:\n",
    "        # 연결 초기화\n",
    "        await session.initialize()\n",
    "\n",
    "        # MCP 도구 로드\n",
    "        tools = await load_mcp_tools(session)\n",
    "        print(f\"Loaded MCP tools count: {len(tools)}\")\n",
    "        print(\"Tools:\", [tool.name for tool in tools])\n",
    "\n",
    "        # 에이전트 생성\n",
    "        agent = create_react_agent(llm, tools)\n",
    "\n",
    "        # 에이전트 응답 스트리밍\n",
    "        # await astream_graph(agent, {\"messages\": [(\"user\", \"dh\")]})\n",
    "        await astream_graph(agent, {\"messages\": \"오늘 날씨 어때\"})"
   ]
  },
  {
   "cell_type": "code",
   "execution_count": 12,
   "id": "a6bbae94",
   "metadata": {},
   "outputs": [
    {
     "name": "stdout",
     "output_type": "stream",
     "text": [
      "Loaded 1 tools from servers/user_assessment.py: ['user_profiling']\n",
      "Loaded 1 tools from servers/generate_curriculum.py: ['get_weather']\n",
      "Loaded 1 tools from servers/evaluate_user.py: ['get_weather']\n",
      "Total tools loaded: 3\n",
      "\n",
      "==================================================\n",
      "🔄 Node: \u001b[1;36magent\u001b[0m 🔄\n",
      "- - - - - - - - - - - - - - - - - - - - - - - - - \n",
      "\n",
      "==================================================\n",
      "🔄 Node: \u001b[1;36mtools\u001b[0m 🔄\n",
      "- - - - - - - - - - - - - - - - - - - - - - - - - \n",
      "It's always Sunny in 서울\n",
      "==================================================\n",
      "🔄 Node: \u001b[1;36magent\u001b[0m 🔄\n",
      "- - - - - - - - - - - - - - - - - - - - - - - - - \n",
      "오늘 서울은 항상 맑아요! 날씨가 정말 좋네요. 혹시 오늘 특별히 계획하고 계신 일 있으세요?"
     ]
    },
    {
     "data": {
      "text/plain": [
       "{'node': 'agent',\n",
       " 'content': AIMessageChunk(content='', additional_kwargs={}, response_metadata={'finish_reason': 'stop', 'model_name': 'midm-2.0-base-q8', 'system_fingerprint': 'fp_ollama'}, id='run--92518610-8f53-4108-a8f7-9f903517ba3d'),\n",
       " 'metadata': {'langgraph_step': 3,\n",
       "  'langgraph_node': 'agent',\n",
       "  'langgraph_triggers': ('branch:to:agent',),\n",
       "  'langgraph_path': ('__pregel_pull', 'agent'),\n",
       "  'langgraph_checkpoint_ns': 'agent:77b190fc-e06b-c14d-b065-7cda89ddf209',\n",
       "  'checkpoint_ns': 'agent:77b190fc-e06b-c14d-b065-7cda89ddf209',\n",
       "  'ls_provider': 'openai',\n",
       "  'ls_model_name': 'midm-2.0-base-q8',\n",
       "  'ls_model_type': 'chat',\n",
       "  'ls_temperature': 0.1,\n",
       "  'ls_max_tokens': 8192}}"
      ]
     },
     "execution_count": 12,
     "metadata": {},
     "output_type": "execute_result"
    }
   ],
   "source": [
    "from mcp import ClientSession, StdioServerParameters\n",
    "from mcp.client.stdio import stdio_client\n",
    "from langchain_mcp_adapters.tools import load_mcp_tools\n",
    "from langgraph.prebuilt import create_react_agent\n",
    "from langchain_openai import ChatOpenAI\n",
    "from utils import astream_graph\n",
    "\n",
    "llm = ChatOpenAI(\n",
    "    base_url=\"http://localhost:11434/v1\",\n",
    "    api_key=\"ollama\",\n",
    "    model=\"midm-2.0-base-q8\",\n",
    "    temperature=0.1,\n",
    "    max_tokens=8192,\n",
    ")\n",
    "\n",
    "# 여러 MCP 서버 동시 연결\n",
    "server_scripts = [\n",
    "    \"servers/user_assessment.py\",\n",
    "    \"servers/generate_curriculum.py\",\n",
    "    \"servers/evaluate_user.py\"\n",
    "]\n",
    "\n",
    "sessions = []\n",
    "stdio_clients = []\n",
    "all_tools = []\n",
    "\n",
    "\n",
    "# 각 서버별로 연결\n",
    "for server_script in server_scripts:\n",
    "    server_params = StdioServerParameters(\n",
    "        command=\"python\",\n",
    "        args=[server_script],\n",
    "    )\n",
    "\n",
    "    # StdIO 클라이언트 생성\n",
    "    stdio_client_instance = stdio_client(server_params)\n",
    "    read, write = await stdio_client_instance.__aenter__()\n",
    "\n",
    "    # 세션 생성\n",
    "    session = ClientSession(read, write)\n",
    "    await session.__aenter__()\n",
    "    await session.initialize()\n",
    "\n",
    "    # 저장 (나중에 정리하기 위해)\n",
    "    stdio_clients.append(stdio_client_instance)\n",
    "    sessions.append(session)\n",
    "\n",
    "    # 해당 서버의 도구 로드\n",
    "    tools = await load_mcp_tools(session)\n",
    "    all_tools.extend(tools)\n",
    "    print(f\"Loaded {len(tools)} tools from {server_script}: {[t.name for t in tools]}\")\n",
    "\n",
    "print(f\"Total tools loaded: {len(all_tools)}\")\n",
    "\n",
    "# 모든 도구로 에이전트 생성\n",
    "agent = create_react_agent(llm, all_tools)\n",
    "\n",
    "# 사용자 질문으로 테스트\n",
    "await astream_graph(agent, {\"messages\": \"오늘 날씨 어떄 ?\"})\n"
   ]
  },
  {
   "cell_type": "code",
   "execution_count": 16,
   "id": "9c4e2218",
   "metadata": {},
   "outputs": [
    {
     "name": "stdout",
     "output_type": "stream",
     "text": [
      "\n",
      "==================================================\n",
      "🔄 Node: \u001b[1;36magent\u001b[0m 🔄\n",
      "- - - - - - - - - - - - - - - - - - - - - - - - - \n",
      "파이썬을 배우고 싶으시군요! 프로그래밍 언어 중에서도 파이썬은 초보자에게 매우 인기 있는 언어예요. 어떤 부분에 특히 관심이 있으신가요? 웹 개발, 데이터 분석, 인공지능 등 구체적인 분야가 있으시면 알려주세요."
     ]
    },
    {
     "data": {
      "text/plain": [
       "{'node': 'agent',\n",
       " 'content': AIMessageChunk(content='', additional_kwargs={}, response_metadata={'finish_reason': 'stop', 'model_name': 'midm-2.0-base-q8', 'system_fingerprint': 'fp_ollama'}, id='run--c52fccf6-2ef1-4204-b859-1f4d6fc933a7'),\n",
       " 'metadata': {'langgraph_step': 1,\n",
       "  'langgraph_node': 'agent',\n",
       "  'langgraph_triggers': ('branch:to:agent',),\n",
       "  'langgraph_path': ('__pregel_pull', 'agent'),\n",
       "  'langgraph_checkpoint_ns': 'agent:05101a74-9377-e1ce-6bb7-f3ffbe6ff03f',\n",
       "  'checkpoint_ns': 'agent:05101a74-9377-e1ce-6bb7-f3ffbe6ff03f',\n",
       "  'ls_provider': 'openai',\n",
       "  'ls_model_name': 'midm-2.0-base-q8',\n",
       "  'ls_model_type': 'chat',\n",
       "  'ls_temperature': 0.1,\n",
       "  'ls_max_tokens': 8192}}"
      ]
     },
     "execution_count": 16,
     "metadata": {},
     "output_type": "execute_result"
    }
   ],
   "source": [
    "prompt = \"나는 파이썬 배우고 싶어\"\n",
    "await astream_graph(agent, {\"messages\": prompt})"
   ]
  },
  {
   "cell_type": "code",
   "execution_count": 3,
   "id": "5a73edc5-bffe-4413-ae76-e2a35af3a9d2",
   "metadata": {},
   "outputs": [],
   "source": [
    "async def test_tool_call(self):\n",
    "    \"\"\"툴 직접 호출 테스트\"\"\"\n",
    "    tools = await load_mcp_tools(self.session)\n",
    "    for tool in tools:\n",
    "        if tool.name == \"user_profiling\":\n",
    "            result = await tool.ainvoke({\"message\": \"파이썬 배우고 싶어요\"})\n",
    "            print(f\"툴 직접 호출 결과: {result}\")\n",
    "            return result"
   ]
  },
  {
   "cell_type": "code",
   "execution_count": null,
   "id": "a8ba1577-fde7-4790-8e8b-d9138fd90fef",
   "metadata": {},
   "outputs": [
    {
     "name": "stderr",
     "output_type": "stream",
     "text": [
      "/opt/anaconda3/envs/kt_competition/lib/python3.11/site-packages/urllib3/connectionpool.py:1097: InsecureRequestWarning: Unverified HTTPS request is being made to host 'mermaid.ink'. Adding certificate verification is strongly advised. See: https://urllib3.readthedocs.io/en/latest/advanced-usage.html#tls-warnings\n",
      "  warnings.warn(\n"
     ]
    },
    {
     "data": {
      "image/png": "[encoded data removed]",
      "text/plain": [
       "<IPython.core.display.Image object>"
      ]
     },
     "metadata": {},
     "output_type": "display_data"
    }
   ],
   "source": [
    "from IPython.display import Image, display\n",
    "\n",
    "try:\n",
    "    display(Image(agent.get_graph(xray=True).draw_mermaid_png()))\n",
    "except Exception:\n",
    "    pass"
   ]
  },
  {
   "cell_type": "code",
   "execution_count": 4,
   "id": "c41cbcbe-e0d7-4fe4-9218-a76fc23e04c2",
   "metadata": {},
   "outputs": [
    {
     "name": "stdout",
     "output_type": "stream",
     "text": [
      "2025-09-05 21:03:57,580 - mcp.server.lowlevel.server - DEBUG - Initializing server 'UserProfiling'\n",
      "2025-09-05 21:03:57,581 - mcp.server.lowlevel.server - DEBUG - Registering handler for ListToolsRequest\n",
      "2025-09-05 21:03:57,582 - mcp.server.lowlevel.server - DEBUG - Registering handler for CallToolRequest\n",
      "2025-09-05 21:03:57,582 - mcp.server.lowlevel.server - DEBUG - Registering handler for ListResourcesRequest\n",
      "2025-09-05 21:03:57,583 - mcp.server.lowlevel.server - DEBUG - Registering handler for ReadResourceRequest\n",
      "2025-09-05 21:03:57,583 - mcp.server.lowlevel.server - DEBUG - Registering handler for PromptListRequest\n",
      "2025-09-05 21:03:57,584 - mcp.server.lowlevel.server - DEBUG - Registering handler for GetPromptRequest\n",
      "2025-09-05 21:03:57,585 - mcp.server.lowlevel.server - DEBUG - Registering handler for ListResourceTemplatesRequest\n",
      "2025-09-05 21:03:57,594 - __main__ - INFO - MCP 서버 시작...\n"
     ]
    },
    {
     "ename": "RuntimeError",
     "evalue": "Already running asyncio in this thread",
     "output_type": "error",
     "traceback": [
      "\u001b[31m---------------------------------------------------------------------------\u001b[39m",
      "\u001b[31mRuntimeError\u001b[39m                              Traceback (most recent call last)",
      "\u001b[36mCell\u001b[39m\u001b[36m \u001b[39m\u001b[32mIn[4]\u001b[39m\u001b[32m, line 34\u001b[39m\n\u001b[32m     32\u001b[39m \u001b[38;5;28;01mif\u001b[39;00m \u001b[34m__name__\u001b[39m == \u001b[33m\"\u001b[39m\u001b[33m__main__\u001b[39m\u001b[33m\"\u001b[39m:\n\u001b[32m     33\u001b[39m     logger.info(\u001b[33m\"\u001b[39m\u001b[33mMCP 서버 시작...\u001b[39m\u001b[33m\"\u001b[39m)\n\u001b[32m---> \u001b[39m\u001b[32m34\u001b[39m     \u001b[43mmcp\u001b[49m\u001b[43m.\u001b[49m\u001b[43mrun\u001b[49m\u001b[43m(\u001b[49m\u001b[43mtransport\u001b[49m\u001b[43m=\u001b[49m\u001b[33;43m\"\u001b[39;49m\u001b[33;43mstdio\u001b[39;49m\u001b[33;43m\"\u001b[39;49m\u001b[43m)\u001b[49m\n",
      "\u001b[36mFile \u001b[39m\u001b[32m/opt/anaconda3/envs/kt_competition/lib/python3.11/site-packages/mcp/server/fastmcp/server.py:250\u001b[39m, in \u001b[36mFastMCP.run\u001b[39m\u001b[34m(self, transport, mount_path)\u001b[39m\n\u001b[32m    248\u001b[39m \u001b[38;5;28;01mmatch\u001b[39;00m transport:\n\u001b[32m    249\u001b[39m     \u001b[38;5;28;01mcase\u001b[39;00m \u001b[33m\"\u001b[39m\u001b[33mstdio\u001b[39m\u001b[33m\"\u001b[39m:\n\u001b[32m--> \u001b[39m\u001b[32m250\u001b[39m         \u001b[43manyio\u001b[49m\u001b[43m.\u001b[49m\u001b[43mrun\u001b[49m\u001b[43m(\u001b[49m\u001b[38;5;28;43mself\u001b[39;49m\u001b[43m.\u001b[49m\u001b[43mrun_stdio_async\u001b[49m\u001b[43m)\u001b[49m\n\u001b[32m    251\u001b[39m     \u001b[38;5;28;01mcase\u001b[39;00m \u001b[33m\"\u001b[39m\u001b[33msse\u001b[39m\u001b[33m\"\u001b[39m:\n\u001b[32m    252\u001b[39m         anyio.run(\u001b[38;5;28;01mlambda\u001b[39;00m: \u001b[38;5;28mself\u001b[39m.run_sse_async(mount_path))\n",
      "\u001b[36mFile \u001b[39m\u001b[32m/opt/anaconda3/envs/kt_competition/lib/python3.11/site-packages/anyio/_core/_eventloop.py:59\u001b[39m, in \u001b[36mrun\u001b[39m\u001b[34m(func, backend, backend_options, *args)\u001b[39m\n\u001b[32m     57\u001b[39m     \u001b[38;5;28;01mpass\u001b[39;00m\n\u001b[32m     58\u001b[39m \u001b[38;5;28;01melse\u001b[39;00m:\n\u001b[32m---> \u001b[39m\u001b[32m59\u001b[39m     \u001b[38;5;28;01mraise\u001b[39;00m \u001b[38;5;167;01mRuntimeError\u001b[39;00m(\u001b[33mf\u001b[39m\u001b[33m\"\u001b[39m\u001b[33mAlready running \u001b[39m\u001b[38;5;132;01m{\u001b[39;00masynclib_name\u001b[38;5;132;01m}\u001b[39;00m\u001b[33m in this thread\u001b[39m\u001b[33m\"\u001b[39m)\n\u001b[32m     61\u001b[39m \u001b[38;5;28;01mtry\u001b[39;00m:\n\u001b[32m     62\u001b[39m     async_backend = get_async_backend(backend)\n",
      "\u001b[31mRuntimeError\u001b[39m: Already running asyncio in this thread"
     ]
    }
   ],
   "source": [
    "# user_assessment.py에 로그 추가\n",
    "from mcp.server.fastmcp import FastMCP\n",
    "import logging\n",
    "import sys\n",
    "\n",
    "# 로깅 설정\n",
    "logging.basicConfig(\n",
    "    level=logging.DEBUG,\n",
    "    format='%(asctime)s - %(name)s - %(levelname)s - %(message)s',\n",
    "    handlers=[\n",
    "        logging.StreamHandler(sys.stdout)\n",
    "    ]\n",
    ")\n",
    "logger = logging.getLogger(__name__)\n",
    "\n",
    "mcp = FastMCP(\n",
    "    \"UserProfiling\",  # 이름 변경\n",
    "    instructions=\"You are a learning mentor that profiles users for personalized education.\",\n",
    "    host=\"0.0.0.0\",\n",
    "    port=8005,\n",
    ")\n",
    "\n",
    "@mcp.tool()\n",
    "async def user_profiling(message: str) -> str:\n",
    "    logger.info(f\"user_profiling 툴 호출됨! 메시지: {message}\")\n",
    "    \n",
    "    result = \"파이썬 학습에 관심이 있으시군요! 몇 가지 질문드릴게요.\"\n",
    "    \n",
    "    logger.info(f\"응답: {result}\")\n",
    "    return result\n",
    "\n",
    "if __name__ == \"__main__\":\n",
    "    logger.info(\"MCP 서버 시작...\")\n",
    "    mcp.run(transport=\"stdio\")"
   ]
  },
  {
   "cell_type": "code",
   "execution_count": null,
   "id": "1b8c80e6-6e2e-4834-8aa9-d6f648661cb9",
   "metadata": {},
   "outputs": [],
   "source": []
  }
 ],
 "metadata": {
  "kernelspec": {
   "display_name": "kt_competition",
   "language": "python",
   "name": "kt_competition"
  },
  "language_info": {
   "codemirror_mode": {
    "name": "ipython",
    "version": 3
   },
   "file_extension": ".py",
   "mimetype": "text/x-python",
   "name": "python",
   "nbconvert_exporter": "python",
   "pygments_lexer": "ipython3",
   "version": "3.11.13"
  }
 },
 "nbformat": 4,
 "nbformat_minor": 5
}
