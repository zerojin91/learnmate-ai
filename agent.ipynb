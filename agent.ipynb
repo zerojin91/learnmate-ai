{
 "cells": [
  {
   "cell_type": "markdown",
   "id": "fis3mu35huw",
   "metadata": {},
   "source": [
    "## 📋 Assessment 시스템 테스트 결과 분석\n",
    "\n",
    "각 셀을 실행하면서 다음 사항들을 확인해보세요:\n",
    "\n",
    "### 🔍 확인할 포인트:\n",
    "\n",
    "1. **MCP 연결 상태**: 도구가 정상적으로 로드되는지\n",
    "2. **각 Assessor 작동**: 5단계 평가가 순서대로 진행되는지  \n",
    "3. **LLM 응답 품질**: 자연스러운 대화 흐름인지\n",
    "4. **오류 처리**: 예외 상황 발생시 적절한 처리인지\n",
    "\n",
    "### 📝 테스트 방법:\n",
    "1. 첫 번째 셀을 실행하여 MCP 서버 연결 확인\n",
    "2. 각 평가 단계 셀을 순서대로 실행\n",
    "3. 에이전트의 응답과 다음 질문을 관찰\n",
    "4. 필요시 추가 대화 진행"
   ]
  },
  {
   "cell_type": "code",
   "execution_count": 1,
   "id": "dvi09jjag4h",
   "metadata": {},
   "outputs": [
    {
     "name": "stdout",
     "output_type": "stream",
     "text": [
      "\\n📈 수준 측정 테스트\n"
     ]
    },
    {
     "ename": "NameError",
     "evalue": "name 'astream_graph' is not defined",
     "output_type": "error",
     "traceback": [
      "\u001b[0;31m---------------------------------------------------------------------------\u001b[0m",
      "\u001b[0;31mNameError\u001b[0m                                 Traceback (most recent call last)",
      "Cell \u001b[0;32mIn[1], line 3\u001b[0m\n\u001b[1;32m      1\u001b[0m \u001b[38;5;66;03m# 7. 수준 측정 테스트 (LevelAssessor)\u001b[39;00m\n\u001b[1;32m      2\u001b[0m \u001b[38;5;28mprint\u001b[39m(\u001b[38;5;124m\"\u001b[39m\u001b[38;5;130;01m\\\\\u001b[39;00m\u001b[38;5;124mn📈 수준 측정 테스트\u001b[39m\u001b[38;5;124m\"\u001b[39m)\n\u001b[0;32m----> 3\u001b[0m \u001b[38;5;28;01mawait\u001b[39;00m astream_graph(agent, {\u001b[38;5;124m\"\u001b[39m\u001b[38;5;124mmessages\u001b[39m\u001b[38;5;124m\"\u001b[39m: \u001b[38;5;124m\"\u001b[39m\u001b[38;5;124m파이썬은 완전 처음이에요, 프로그래밍 자체가 처음이에요\u001b[39m\u001b[38;5;124m\"\u001b[39m})\n",
      "\u001b[0;31mNameError\u001b[0m: name 'astream_graph' is not defined"
     ]
    }
   ],
   "source": [
    "# 7. 수준 측정 테스트 (LevelAssessor)\n",
    "print(\"\\\\n📈 수준 측정 테스트\")\n",
    "await astream_graph(agent, {\"messages\": \"파이썬은 완전 처음이에요, 프로그래밍 자체가 처음이에요\"})"
   ]
  },
  {
   "cell_type": "code",
   "execution_count": null,
   "id": "auo8203f30c",
   "metadata": {},
   "outputs": [],
   "source": [
    "# 6. 예산 평가 테스트 (BudgetAssessor)\n",
    "print(\"\\\\n💰 예산 평가 테스트\")\n",
    "await astream_graph(agent, {\"messages\": \"한 달에 5만원 정도까지는 쓸 수 있어요\"})"
   ]
  },
  {
   "cell_type": "code",
   "execution_count": null,
   "id": "vkj9i5227dq",
   "metadata": {},
   "outputs": [],
   "source": "# 📝 실제 대화형 테스트 가이드\n\nprint(\\\"\\\"\\\"\n\\\\n📋 **실제 테스트 방법**:\n\n1️⃣ 첫 번째 셀을 실행해서 session_id를 확인\n2️⃣ 얻은 session_id를 복사해서 아래 셀들의 'session_id' 값을 교체\n3️⃣ 각 셀을 순서대로 실행하면서 대화형 평가 진행 과정 관찰\n4️⃣ assess_user 도구로 사용자 입력을 시뮬레이션\n5️⃣ confirm_and_proceed 도구로 다음 단계로 진행\n\n이렇게 하면 topic → goal → time → budget → level 순서로 \n상태 기반 대화형 평가 시스템이 작동하는 것을 확인할 수 있습니다! 🚀\n\\\"\\\"\\\")"
  },
  {
   "cell_type": "code",
   "execution_count": null,
   "id": "l22m5yab3kj",
   "metadata": {},
   "outputs": [],
   "source": "# 4. 목표 평가 테스트\nprint(\"\\\\n4️⃣ 목표 평가\")\n\nsession_id = \"274781a6-4ff3-45ba-8e00-0d4cab7b4a83\"  # 동일한 session_id 사용\n\nawait astream_graph(agent, {\"messages\": f\"assess_user 도구를 사용해서 session_id는 '{session_id}', user_input은 '취업을 위해서 공부하려고 해요'로 평가를 진행해줘\"})"
  },
  {
   "cell_type": "code",
   "execution_count": null,
   "id": "2ysj8l5ujdr",
   "metadata": {},
   "outputs": [],
   "source": "# 3. 다음 단계로 진행 테스트\nprint(\"\\\\n3️⃣ 주제 확인 후 다음 단계로 진행\")\n\nsession_id = \"274781a6-4ff3-45ba-8e00-0d4cab7b4a83\"  # 동일한 session_id 사용\n\nawait astream_graph(agent, {\"messages\": f\"confirm_and_proceed 도구를 사용해서 session_id는 '{session_id}', confirmed는 true로 설정해서 다음 단계로 진행해줘\"})"
  },
  {
   "cell_type": "code",
   "execution_count": null,
   "id": "eruk0nlf2c",
   "metadata": {},
   "outputs": [],
   "source": "# 2. 주제 평가 테스트 \nprint(\"\\\\n2️⃣ 주제 평가 - 사용자 입력 시뮬레이션\")\n\n# 실제로 생성된 session_id 사용\nsession_id = \"274781a6-4ff3-45ba-8e00-0d4cab7b4a83\"  # 위에서 확인한 session_id\n\nawait astream_graph(agent, {\"messages\": f\"assess_user 도구를 사용해서 session_id는 '{session_id}', user_input은 '파이썬 프로그래밍을 배우고 싶어요'로 평가를 진행해줘\"})"
  },
  {
   "cell_type": "code",
   "execution_count": null,
   "id": "4ccd4bb5-b121-4873-925d-2ce20942bb4f",
   "metadata": {
    "scrolled": true
   },
   "outputs": [],
   "source": "from mcp import ClientSession, StdioServerParameters\nfrom mcp.client.stdio import stdio_client\nfrom langchain_mcp_adapters.tools import load_mcp_tools\nfrom langgraph.prebuilt import create_react_agent\nfrom langchain_openai import ChatOpenAI\nfrom utils import astream_graph\n\n\nllm = ChatOpenAI(\n    base_url=\"http://localhost:11434/v1\",\n    api_key=\"ollama\",\n    model=\"midm-2.0:base\",  # tool calling 지원 모델 사용\n    temperature=0.0,\n    max_tokens=8192,\n)\n\n\n# StdIO 서버 파라미터 설정 - user_assessment.py 사용\nserver_params = StdioServerParameters(\n    command=\"python\",\n    args=[\"servers/user_assessment.py\"],  # 상태 관리가 있는 완전한 서버 사용\n)\n\n# StdIO 클라이언트를 사용하여 서버와 통신\nasync with stdio_client(server_params) as (read, write):\n    # 클라이언트 세션 생성\n    async with ClientSession(read, write) as session:\n        # 연결 초기화\n        await session.initialize()\n\n        # MCP 도구 로드\n        tools = await load_mcp_tools(session)\n        print(f\"Loaded MCP tools count: {len(tools)}\")\n        print(\"Tools:\", [tool.name for tool in tools])\n\n        # 에이전트 생성\n        agent = create_react_agent(llm, tools)\n        \n        # 시스템 정보 확인\n        print(\"\\\\n=== User Assessment 시스템 정보 ===\")\n        await astream_graph(agent, {\"messages\": \"get_system_info 도구를 사용해서 시스템 정보를 확인해줘\"})"
  },
  {
   "cell_type": "code",
   "execution_count": null,
   "id": "7bd4953d",
   "metadata": {},
   "outputs": [],
   "source": []
  },
  {
   "cell_type": "code",
   "execution_count": null,
   "id": "ee8435ae",
   "metadata": {},
   "outputs": [],
   "source": []
  },
  {
   "cell_type": "code",
   "execution_count": null,
   "id": "5d35d0cf",
   "metadata": {},
   "outputs": [],
   "source": []
  },
  {
   "cell_type": "code",
   "execution_count": null,
   "id": "5c14a4a8",
   "metadata": {},
   "outputs": [],
   "source": []
  },
  {
   "cell_type": "code",
   "execution_count": 10,
   "id": "a8ba1577-fde7-4790-8e8b-d9138fd90fef",
   "metadata": {},
   "outputs": [
    {
     "name": "stderr",
     "output_type": "stream",
     "text": [
      "/opt/anaconda3/envs/kt_competition/lib/python3.11/site-packages/urllib3/connectionpool.py:1097: InsecureRequestWarning: Unverified HTTPS request is being made to host 'mermaid.ink'. Adding certificate verification is strongly advised. See: https://urllib3.readthedocs.io/en/latest/advanced-usage.html#tls-warnings\n",
      "  warnings.warn(\n"
     ]
    },
    {
     "data": {
      "image/png": "[encoded data removed]",
      "text/plain": [
       "<IPython.core.display.Image object>"
      ]
     },
     "metadata": {},
     "output_type": "display_data"
    }
   ],
   "source": [
    "from IPython.display import Image, display\n",
    "\n",
    "try:\n",
    "    display(Image(agent.get_graph(xray=True).draw_mermaid_png()))\n",
    "except Exception:\n",
    "    pass"
   ]
  },
  {
   "cell_type": "code",
   "execution_count": null,
   "id": "2fc74cd2-90e6-417e-a546-91ee9e79f9b5",
   "metadata": {},
   "outputs": [],
   "source": "# 대화형 평가 테스트\n\nprint(\"\\\\n=== 대화형 평가 시스템 테스트 ===\")\n\n# 1. 평가 시작\nprint(\"\\\\n1️⃣ 평가 시작\")\nawait astream_graph(agent, {\"messages\": \"start_assessment 도구를 사용해서 학습 평가를 시작해줘\"})"
  }
 ],
 "metadata": {
  "kernelspec": {
   "display_name": "Python 3 (ipykernel)",
   "language": "python",
   "name": "python3"
  },
  "language_info": {
   "codemirror_mode": {
    "name": "ipython",
    "version": 3
   },
   "file_extension": ".py",
   "mimetype": "text/x-python",
   "name": "python",
   "nbconvert_exporter": "python",
   "pygments_lexer": "ipython3",
   "version": "3.12.4"
  }
 },
 "nbformat": 4,
 "nbformat_minor": 5
}