


# 7. 수준 측정 테스트 (LevelAssessor)
print("\\n📈 수준 측정 테스트")
await astream_graph(agent, {"messages": "파이썬은 완전 처음이에요, 프로그래밍 자체가 처음이에요"})


# 6. 예산 평가 테스트 (BudgetAssessor)
print("\\n💰 예산 평가 테스트")
await astream_graph(agent, {"messages": "한 달에 5만원 정도까지는 쓸 수 있어요"})


# 5. 시간 평가 테스트 (TimeAssessor)
print("\\n⏰ 시간 평가 테스트")
await astream_graph(agent, {"messages": "주말에 하루 3-4시간 정도 할 수 있어요"})


# 4. 목표 평가 테스트 (GoalAssessor)
print("\\n💡 목표 평가 테스트")
await astream_graph(agent, {"messages": "취업을 위해서 공부하려고 해요"})


# 3. 주제 평가 테스트 (TopicAssessor)
print("\\n📚 주제 평가 테스트")
await astream_graph(agent, {"messages": "파이썬 프로그래밍을 배우고 싶어요"})


# 2. 학습 평가 시작 테스트
print("\\n🎯 학습 평가 시작")
await astream_graph(agent, {"messages": "start_assessment 도구를 사용해서 학습 평가를 시작해줘"})


from mcp import ClientSession, StdioServerParameters
from mcp.client.stdio import stdio_client
from langchain_mcp_adapters.tools import load_mcp_tools
from langgraph.prebuilt import create_react_agent
from langchain_openai import ChatOpenAI
from utils import astream_graph


llm = ChatOpenAI(
    base_url="http://localhost:11434/v1",
    api_key="ollama",
    model="midm-2.0-base-q8",
    temperature=0.0,
    max_tokens=8192,
)


# StdIO 서버 파라미터 설정
# - command: Python 인터프리터 경로
# - args: 실행할 MCP 서버 스크립트
server_params = StdioServerParameters(
    command="python",
    args=["servers/user_assessment.py"],
)

# StdIO 클라이언트를 사용하여 서버와 통신
async with stdio_client(server_params) as (read, write):
    # 클라이언트 세션 생성
    async with ClientSession(read, write) as session:
        # 연결 초기화
        await session.initialize()

        # MCP 도구 로드
        tools = await load_mcp_tools(session)
        print(f"Loaded MCP tools count: {len(tools)}")
        print("Tools:", [tool.name for tool in tools])

        # 에이전트 생성
        agent = create_react_agent(llm, tools)
        
        # 시스템 정보 확인 테스트
        print("\\n=== 시스템 정보 확인 테스트 ===")
        await astream_graph(agent, {"messages": "get_system_info 도구를 사용해서 시스템 정보를 확인해줘"})





from IPython.display import Image, display

try:
    display(Image(agent.get_graph(xray=True).draw_mermaid_png()))
except Exception:
    pass


# Assessment 시스템 단계별 테스트

print("\\n=== Assessment 시스템 테스트 시작 ===")

# 1. 시스템 정보 확인
print("\\n📊 시스템 정보 확인")
await astream_graph(agent, {"messages": "get_system_info 도구를 사용해서 시스템 정보를 확인해줘"})
